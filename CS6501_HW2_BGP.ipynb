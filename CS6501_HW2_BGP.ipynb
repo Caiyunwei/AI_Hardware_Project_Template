{
  "nbformat": 4,
  "nbformat_minor": 0,
  "metadata": {
    "colab": {
      "provenance": [],
      "include_colab_link": true
    },
    "kernelspec": {
      "name": "python3",
      "display_name": "Python 3"
    },
    "language_info": {
      "name": "python"
    }
  },
  "cells": [
    {
      "cell_type": "markdown",
      "metadata": {
        "id": "view-in-github",
        "colab_type": "text"
      },
      "source": [
        "<a href=\"https://colab.research.google.com/github/Caiyunwei/AI_Hardware_Project_Template/blob/main/CS6501_HW2_BGP.ipynb\" target=\"_parent\"><img src=\"https://colab.research.google.com/assets/colab-badge.svg\" alt=\"Open In Colab\"/></a>"
      ]
    },
    {
      "cell_type": "markdown",
      "source": [
        "# **CS6501/ECE6502 Spring 2025, Assignment 2**\n",
        "\n",
        "In this assignment, we will analyze real-world BGP data during the 2008 Youtube hijacking event.\n",
        "\n",
        "Note: this assignment is individual work. Please do not collaborate or share answers with classmates. It's ok to discuss, but please list all names whom you've discussed with in this text block. Please contact course staff with any questions.\n",
        "\n",
        "\n",
        "> Names (if applicable):\n",
        "\n"
      ],
      "metadata": {
        "id": "FTzABaDXZAPc"
      }
    },
    {
      "cell_type": "markdown",
      "source": [
        "## **Get Started**\n",
        "\n",
        "First, download [hw2data.zip](https://www.cs.virginia.edu/~ys3kz/courses/spring25/cs6501/hw2data.zip).\n",
        "\n",
        "You should have 7 files: two “ribs.\\*” files and five “updates.\\*” files, where the name of each file indicates the timestamp.\n",
        "\n",
        "If you run the notebook on Google Colab, make sure that you [upload the files to the notebook](https://www.cs.virginia.edu/~ys3kz/courses/spring25/cs6501/upload_colab.png).\n",
        "\n",
        "If you run the notebook locally, make sure that the files are in the same directory as this notebook."
      ],
      "metadata": {
        "id": "CFJoEVZAZvYF"
      }
    },
    {
      "cell_type": "markdown",
      "source": [
        "## **Understanding BGP data**\n",
        "\n",
        "The data was collected at the [RouteViews BGP collector](http://www.routeviews.org/routeviews/index.php/map/) in Oregon. Thus, it shows the BGP announcements seen at this collector, while other collectors likely have different views. The data we will use in this assignment was collected from 18:22 to 21:11 on Feb 24, 2008, UTC. You can find the original data source [here](http://archive.routeviews.org/bgpdata/2008.02/) and the complete data archive on [RouteViews](http://archive.routeviews.org/).\n",
        "\n",
        "There are two types of data: RIB (rib.\\*) and UPDATE (updates.\\*). RIB stands for *Routing Information Base*, which shows the full routing table. For example, *rib.20080224.1822* is a snapshot of the full routing table at 18:22 UTC on 02/24/2008. RIB files are usually large.\n",
        "\n",
        "UPDATE files only show BGP update messages received during a time interval. The collector saves BGP updates to file every 15 minutes. For example, *updates.20080224.1839* contains all BGP announcements received from 18:39 to 18:54. UPDATE files are much smaller than RIB files.\n",
        "\n",
        "*Note:* the original file type is .bz2, which is a format used for BGP data. We have already parsed out the files for you in this assignment into txt format. If you want to explore additional data (e.g., for your final project), you will need to parse them out. You can do so by using [mrtparse](https://github.com/t2mune/mrtparse/tree/master/examples) or [BGPReader](https://bgpstream.caida.org/docs/tools/bgpreader).\n",
        "\n",
        "### **Data fields you may need to use in this assignment:**\n",
        "\n",
        "Example line in RIB:\n",
        "\n",
        "`TABLE_DUMP|02/24/08 18:24:13|B|144.228.241.81|1239|222.255.224.0/19|1239 6762 7473 7643|IGP`\n",
        "\n",
        "*   02/24/08 18:24:13 --> timestamp\n",
        "*   222.255.224.0/19 --> prefix\n",
        "*   1239 --> neighboring AS (should be the same as the first ASN in the AS path)\n",
        "*   1239 6762 7473 7643 --> AS path\n",
        "\n",
        "Example line in UPDATES:\n",
        "\n",
        "`BGP4MP|02/24/08 18:39:21|A|195.219.96.239|6453|89.4.128.0/24|6453 39386 24731|IGP`\n",
        "\n",
        "Fields are similar to RIB. The main difference is that \"A\" stands for advertise/announce and \"W\" stands for withdraw."
      ],
      "metadata": {
        "id": "n-nlG6EL8TiW"
      }
    },
    {
      "cell_type": "markdown",
      "source": [
        "## **In this assignment, we will only focus on routes involving 208.65.152.0/22 AND all its sub-prefixes. All questions refer to 208.65.152.0/22 AND all its sub-prefixes.**"
      ],
      "metadata": {
        "id": "7rxpqkmqByYf"
      }
    },
    {
      "cell_type": "code",
      "source": [
        "# TODO: implement a function to find which AS(es) is announcing 208.65.152.0/22 OR any of its subprefixes.\n",
        "# The program should take a file as input (RIB or UPDATES).\n",
        "# The program should return a list of distinct tuples, where each tuple is (prefix, ASN), indicating that the AS is announcing the prefix (208.65.152.0/22 OR any of its subprefixes).\n",
        "\n",
        "# Example output: [('208.65.152.0/22', 12345), ('208.65.152.0/23', 54321)]\n",
        "# Note: the example output uses arbitrary values.\n",
        "\n",
        "# IMPORTANT NOTE: please include the link to any resource you use in implementing this\n",
        "\n",
        "# You may find the ipaddress library helpful. But feel free to use other libraries too.\n",
        "import ipaddress\n",
        "\n",
        "def find_origins(fname):\n",
        "  #TODO\n",
        "  return []\n"
      ],
      "metadata": {
        "id": "Rq1rwQfOCXhG"
      },
      "execution_count": null,
      "outputs": []
    },
    {
      "cell_type": "markdown",
      "source": [
        "### **Part 1: before the attack**\n",
        "\n",
        "Let's look at rib.20080224.1822, which is a snapshot of the full routing table at 18:22."
      ],
      "metadata": {
        "id": "geIxtBWWJwCv"
      }
    },
    {
      "cell_type": "code",
      "source": [
        "find_origins(\"rib.20080224.1822.txt\")"
      ],
      "metadata": {
        "id": "K6cm60-GJ6-x"
      },
      "execution_count": null,
      "outputs": []
    },
    {
      "cell_type": "markdown",
      "source": [
        "Answer the following questions.\n",
        "\n",
        "*   What's the name of organization corresponding to each AS in the output? Hint: you can lookup on CAIDA.\n",
        "> Answer:\n",
        "\n",
        "*   Can you query WHOIS to find out the organization that owns each prefix in the output?\n",
        "> Answer:"
      ],
      "metadata": {
        "id": "QO-gdBvsKBj_"
      }
    },
    {
      "cell_type": "markdown",
      "source": [
        "### **Part 2: start of the attack**\n",
        "\n",
        "Let's look at updates.20080224.1839, which contains all BGP updates from 18:39 to 18:54"
      ],
      "metadata": {
        "id": "cyYN53qBMZSv"
      }
    },
    {
      "cell_type": "code",
      "source": [
        "find_origins(\"updates.20080224.1839.txt\")"
      ],
      "metadata": {
        "id": "A_XjfeDEMnPu"
      },
      "execution_count": null,
      "outputs": []
    },
    {
      "cell_type": "markdown",
      "source": [
        "Answer the following questions.\n",
        "\n",
        "*   What's the name of organization corresponding to each AS in the output? Hint: you can lookup on CAIDA.\n",
        "> Answer:\n",
        "\n",
        "*   Which AS will receive packets to IP address 208.65.153.0? And why? Please refer to the program output in your explanation.\n",
        "> Answer:\n",
        "\n",
        "*   Which AS will receive packets to IP address 208.65.152.0? And why? Please refer to the program output in your explanation.\n",
        "> Answer:"
      ],
      "metadata": {
        "id": "uNZTq7wxNKbe"
      }
    },
    {
      "cell_type": "markdown",
      "source": [
        "### **Part 3: reaction from the victim**\n",
        "\n",
        "Let's look at updates.20080224.1954, which contains all BGP updates from 19:54 to 20:09."
      ],
      "metadata": {
        "id": "ecsJZsuoNtQM"
      }
    },
    {
      "cell_type": "code",
      "source": [
        "find_origins(\"updates.20080224.1954.txt\")"
      ],
      "metadata": {
        "id": "RcMujg3DOIVx"
      },
      "execution_count": null,
      "outputs": []
    },
    {
      "cell_type": "markdown",
      "source": [
        "Answer the following questions.\n",
        "\n",
        "*   Which AS will receive packets to IP address 208.65.153.0? And why? Please refer to the program output in your explanation.\n",
        "> Answer:\n",
        "\n",
        "*   Why did the AS make the (new) announcement you observe in this file? Please refer to the program output in your explanation.\n",
        "> Answer:"
      ],
      "metadata": {
        "id": "H7TrXGxYOPtE"
      }
    },
    {
      "cell_type": "markdown",
      "source": [
        "### **Part 4: more reaction from the victim**\n",
        "\n",
        "Let's look at updates.20080224.2009, which contains all BGP updates from 20:09 to 20:24."
      ],
      "metadata": {
        "id": "Dee-6d1_PBeb"
      }
    },
    {
      "cell_type": "code",
      "source": [
        "find_origins(\"updates.20080224.2009.txt\")"
      ],
      "metadata": {
        "id": "6gAhrO7YPJ-C"
      },
      "execution_count": null,
      "outputs": []
    },
    {
      "cell_type": "markdown",
      "source": [
        "Answer the following questions.\n",
        "\n",
        "*   Which AS will receive packets to IP address 208.65.153.0? And why? Please refer to the program output in your explanation.\n",
        "> Answer:\n",
        "\n",
        "*   Why did the AS make the (new) announcement you observe in this file? Specifically, what different effects that this new announcement would create compared to the announcement seen in Part 3?\n",
        "> Answer:"
      ],
      "metadata": {
        "id": "0zM9qeSZPV_p"
      }
    },
    {
      "cell_type": "markdown",
      "source": [
        "### **Part 5: another look at RIB**\n",
        "\n",
        "After all the above activites… Let's take another look at the full routing table! Look at rib.20080224.2024, which is a snapshot of the full routing table at 20:24."
      ],
      "metadata": {
        "id": "rFkpd-jZP_0J"
      }
    },
    {
      "cell_type": "code",
      "source": [
        "find_origins(\"rib.20080224.2024.txt\")"
      ],
      "metadata": {
        "id": "q438Jo5PQMLZ"
      },
      "execution_count": null,
      "outputs": []
    },
    {
      "cell_type": "markdown",
      "source": [
        "### **Part 6: reaction from upstream AS**\n",
        "\n",
        "Let's look at updates.20080224.2041, which contains all BGP updates from 20:41 to 21:56."
      ],
      "metadata": {
        "id": "5tBaZ_zhQczI"
      }
    },
    {
      "cell_type": "code",
      "source": [
        "# TODO: implement a function that outputs the full routing info received from neighbor AS 13237 for 208.65.152.0/22 AND all its subprefixes.\n",
        "# The program should take a file as input (UPDATES).\n",
        "# The program should print all lines from the file where neighbor AS is 13237 and prefix is 208.65.152.0/22 or any of its subprefixes.\n",
        "\n",
        "# Example output:\n",
        "# BGP4MP|02/24/08 20:41:18|A|209.161.175.4|13237|208.65.152.0/22|13237 100 200 300|IGP\n",
        "# Note: the example output uses arbitrary values.\n",
        "\n",
        "def find_routes(fname):\n",
        "  #TODO\n",
        "  return None\n",
        "\n",
        "find_routes(\"updates.20080224.2041.txt\")"
      ],
      "metadata": {
        "id": "mGghGsm5QkUd"
      },
      "execution_count": null,
      "outputs": []
    },
    {
      "cell_type": "markdown",
      "source": [
        "Answer the following questions.\n",
        "\n",
        "*   Did the AS path change in the announcements? If so, specify the change, i.e., changed from __ to __. Please refer to the program output in your explanation.\n",
        "> Answer:\n",
        "\n",
        "*   What are the effects of this change? Specifically, would the origin AS receive more or less traffic after the change, and why?\n",
        "> Answer:"
      ],
      "metadata": {
        "id": "p1ROm6W3TBa5"
      }
    },
    {
      "cell_type": "code",
      "source": [
        "# TODO: implement a function that outputs the list of neighbor ASes from which there is a similar change in the AS path as AS 13237 above.\n",
        "# The program should take a file as input (UPDATES).\n",
        "# The program should return a list of neighbor ASes, whose paths exhibit a similar pattern as the new path from AS 13237. Do not include 13237 in the list.\n",
        "\n",
        "# Example output: [12345, 54321]\n",
        "# Note: the example output uses arbitrary values.\n",
        "\n",
        "def find_neighbors(fname):\n",
        "  #TODO\n",
        "  return []\n",
        "\n",
        "find_neighbors(\"updates.20080224.2041.txt\")"
      ],
      "metadata": {
        "id": "68X83E6RUgKZ"
      },
      "execution_count": null,
      "outputs": []
    },
    {
      "cell_type": "markdown",
      "source": [
        "### **Part 7: more reaction from upstream AS**\n",
        "\n",
        "Let's look at updates.20080224.2056, which contains all BGP updates from 20:56 to 21:09.\n",
        "\n",
        "We will only look at updates received from the neighbor AS 13237."
      ],
      "metadata": {
        "id": "eIpbeSVOVuQD"
      }
    },
    {
      "cell_type": "code",
      "source": [
        "find_routes(\"updates.20080224.2056.txt\")"
      ],
      "metadata": {
        "id": "t__Do3edWgU4"
      },
      "execution_count": null,
      "outputs": []
    },
    {
      "cell_type": "markdown",
      "source": [
        "Answer the following questions.\n",
        "\n",
        "*   Please refer to the program output and explain what happened in the updates. Please go through each line one by one, in chronological order, and explain what happened in the update and what is the effect.\n",
        "> Answer:\n"
      ],
      "metadata": {
        "id": "eKKrU79eXB1a"
      }
    }
  ]
}